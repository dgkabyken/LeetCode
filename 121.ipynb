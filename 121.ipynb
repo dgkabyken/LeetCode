{
 "cells": [
  {
   "cell_type": "code",
   "execution_count": 1,
   "metadata": {},
   "outputs": [],
   "source": [
    "import numpy as np\n",
    "import re"
   ]
  },
  {
   "cell_type": "code",
   "execution_count": 2,
   "metadata": {},
   "outputs": [],
   "source": [
    "# Solution 1 (fastest way)\n",
    "class Solution:\n",
    "    def maxProfit(self, prices):\n",
    "        minimum, maximum, delta = 0, 0, 0\n",
    "        delta_max = 0\n",
    "        for i in range(len(prices)):\n",
    "            if i == 0:\n",
    "                minimum = prices[i]\n",
    "                continue\n",
    "            if prices[i] < minimum:\n",
    "                minimum = prices[i]\n",
    "                maximum = 0\n",
    "            elif prices[i] > maximum:\n",
    "                maximum = prices[i]\n",
    "                if maximum - minimum > delta:\n",
    "                    delta = maximum - minimum\n",
    "        return delta"
   ]
  },
  {
   "cell_type": "code",
   "execution_count": null,
   "metadata": {},
   "outputs": [],
   "source": [
    "# Solution 2 on C++ (faster than on Python3)\n",
    "class Solution {\n",
    "public:\n",
    "    int maxProfit(vector<int>& prices) {\n",
    "        int minimum = 0;\n",
    "        int maximum = 0;\n",
    "        int delta = 0;\n",
    "        int delta_max = 0;\n",
    "        for (int i = 0; i < prices.size(); i++){\n",
    "            if (i == 0){\n",
    "                minimum = prices[i];\n",
    "                continue;\n",
    "            }\n",
    "            if (prices[i] < minimum){\n",
    "                minimum = prices[i];\n",
    "                maximum = 0;\n",
    "            }\n",
    "            else if (prices[i] > maximum){\n",
    "                maximum = prices[i];\n",
    "                if (maximum - minimum > delta) {\n",
    "                    delta = maximum - minimum;\n",
    "                }\n",
    "            }\n",
    "        }\n",
    "        return delta;\n",
    "    }\n",
    "};"
   ]
  },
  {
   "cell_type": "code",
   "execution_count": 4,
   "metadata": {},
   "outputs": [],
   "source": [
    "# Solution 3 (simple solution)\n",
    "class Solution:\n",
    "    def maxProfit(self, prices):\n",
    "        pmax = 0\n",
    "        for i in range(len(prices)):\n",
    "            for j in range(i + 1, len(prices)):\n",
    "                if prices[j] - prices[i] > 0:\n",
    "                    if prices[j] - prices[i] > pmax:\n",
    "                        pmax = prices[j] - prices[i]\n",
    "        return pmax"
   ]
  },
  {
   "cell_type": "code",
   "execution_count": null,
   "metadata": {},
   "outputs": [],
   "source": []
  }
 ],
 "metadata": {
  "kernelspec": {
   "display_name": "Python 3",
   "language": "python",
   "name": "python3"
  },
  "language_info": {
   "codemirror_mode": {
    "name": "ipython",
    "version": 3
   },
   "file_extension": ".py",
   "mimetype": "text/x-python",
   "name": "python",
   "nbconvert_exporter": "python",
   "pygments_lexer": "ipython3",
   "version": "3.7.4"
  }
 },
 "nbformat": 4,
 "nbformat_minor": 2
}
