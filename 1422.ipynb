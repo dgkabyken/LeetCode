{
 "cells": [
  {
   "cell_type": "code",
   "execution_count": 1,
   "metadata": {},
   "outputs": [],
   "source": [
    "import numpy as np\n",
    "import re"
   ]
  },
  {
   "cell_type": "code",
   "execution_count": 2,
   "metadata": {},
   "outputs": [],
   "source": [
    "# Solution 1\n",
    "class Solution:\n",
    "    def maxScore(self, s):\n",
    "        m = 0\n",
    "        for i in range(len(s) - 1):\n",
    "            if (s[:(i + 1)].count('0') + s[(i + 1):].count('1')) > m:\n",
    "                m = s[:(i + 1)].count('0') + s[(i + 1):].count('1')\n",
    "        return m"
   ]
  },
  {
   "cell_type": "code",
   "execution_count": 3,
   "metadata": {},
   "outputs": [],
   "source": [
    "# Solution 2\n",
    "class Solution:\n",
    "    def maxScore(self, s):\n",
    "        left = ''\n",
    "        right = s\n",
    "        m = 0\n",
    "        for i in s[:-1]:\n",
    "            left += i\n",
    "            right = right[1:]\n",
    "            if left.count('0') + right.count('1') > m:\n",
    "                m = left.count('0') + right.count('1')\n",
    "        return m"
   ]
  },
  {
   "cell_type": "code",
   "execution_count": null,
   "metadata": {},
   "outputs": [],
   "source": []
  }
 ],
 "metadata": {
  "kernelspec": {
   "display_name": "Python 3",
   "language": "python",
   "name": "python3"
  },
  "language_info": {
   "codemirror_mode": {
    "name": "ipython",
    "version": 3
   },
   "file_extension": ".py",
   "mimetype": "text/x-python",
   "name": "python",
   "nbconvert_exporter": "python",
   "pygments_lexer": "ipython3",
   "version": "3.7.4"
  }
 },
 "nbformat": 4,
 "nbformat_minor": 2
}
