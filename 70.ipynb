{
 "cells": [
  {
   "cell_type": "code",
   "execution_count": 1,
   "metadata": {},
   "outputs": [],
   "source": [
    "import numpy as np\n",
    "import re"
   ]
  },
  {
   "cell_type": "code",
   "execution_count": 2,
   "metadata": {},
   "outputs": [],
   "source": [
    "# Solution 1 (just Fibonacci)\n",
    "class Solution:\n",
    "    def climbStairs(self, n: int) -> int:\n",
    "        import numpy as np\n",
    "        return int((pow((1 + np.sqrt(5))/2, n + 1) - pow((1 - np.sqrt(5))/2, n + 1))/np.sqrt(5))"
   ]
  },
  {
   "cell_type": "code",
   "execution_count": null,
   "metadata": {},
   "outputs": [],
   "source": [
    "# Solution 2 on C++\n",
    "class Solution {\n",
    "public:\n",
    "    int climbStairs(int n) {\n",
    "        return (pow((1 + sqrt(5))/2, n + 1) - pow((1 - sqrt(5))/2, n + 1))/sqrt(5);\n",
    "    }\n",
    "};"
   ]
  },
  {
   "cell_type": "code",
   "execution_count": 3,
   "metadata": {},
   "outputs": [],
   "source": [
    "# Solution 3 via Binomial coefficients\n",
    "class Solution:\n",
    "    def climbStairs(self, n: int) -> int:\n",
    "        s = 0\n",
    "        for i in range(int(n/2) + 1):\n",
    "            s += scipy.special.binom(n - i, i)\n",
    "        return int(s)"
   ]
  },
  {
   "cell_type": "code",
   "execution_count": null,
   "metadata": {},
   "outputs": [],
   "source": []
  }
 ],
 "metadata": {
  "kernelspec": {
   "display_name": "Python 3",
   "language": "python",
   "name": "python3"
  },
  "language_info": {
   "codemirror_mode": {
    "name": "ipython",
    "version": 3
   },
   "file_extension": ".py",
   "mimetype": "text/x-python",
   "name": "python",
   "nbconvert_exporter": "python",
   "pygments_lexer": "ipython3",
   "version": "3.7.4"
  }
 },
 "nbformat": 4,
 "nbformat_minor": 2
}
