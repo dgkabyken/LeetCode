{
 "cells": [
  {
   "cell_type": "code",
   "execution_count": 1,
   "metadata": {},
   "outputs": [],
   "source": [
    "import numpy as np\n",
    "import re"
   ]
  },
  {
   "cell_type": "code",
   "execution_count": 3,
   "metadata": {},
   "outputs": [],
   "source": [
    "class Solution:\n",
    "    def numTeams(self, rating):\n",
    "        s = 0\n",
    "        for i in range(len(rating)):\n",
    "            for j in range(i + 1, len(rating)):\n",
    "                if rating[i] > rating[j]:\n",
    "                    for k in range(j + 1, len(rating)):\n",
    "                        if rating[j] > rating[k]:\n",
    "                            s += 1\n",
    "        for i in range(len(rating)):\n",
    "            for j in range(i + 1, len(rating)):\n",
    "                if rating[i] < rating[j]:\n",
    "                    for k in range(j + 1, len(rating)):\n",
    "                        if rating[j] < rating[k]:\n",
    "                            s += 1\n",
    "        return s"
   ]
  },
  {
   "cell_type": "code",
   "execution_count": null,
   "metadata": {},
   "outputs": [],
   "source": []
  }
 ],
 "metadata": {
  "kernelspec": {
   "display_name": "Python 3",
   "language": "python",
   "name": "python3"
  },
  "language_info": {
   "codemirror_mode": {
    "name": "ipython",
    "version": 3
   },
   "file_extension": ".py",
   "mimetype": "text/x-python",
   "name": "python",
   "nbconvert_exporter": "python",
   "pygments_lexer": "ipython3",
   "version": "3.7.4"
  }
 },
 "nbformat": 4,
 "nbformat_minor": 2
}
