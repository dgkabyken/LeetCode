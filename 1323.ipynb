{
 "cells": [
  {
   "cell_type": "code",
   "execution_count": 1,
   "metadata": {},
   "outputs": [],
   "source": [
    "import numpy as np\n",
    "import re"
   ]
  },
  {
   "cell_type": "code",
   "execution_count": 2,
   "metadata": {},
   "outputs": [],
   "source": [
    "# Solution 1 (faster way)\n",
    "class Solution:\n",
    "    def maximum69Number (self, num):\n",
    "        l = len(str(num))\n",
    "        k = 0\n",
    "        if num != int('9'*l):\n",
    "            k = int('9'*l) - ((int('9'*l) - num) - 3*(10**(len(str(int('9'*l) - num)) - 1)))\n",
    "            return k\n",
    "        else:\n",
    "            return num"
   ]
  },
  {
   "cell_type": "code",
   "execution_count": null,
   "metadata": {},
   "outputs": [],
   "source": [
    "# Solution 2 on C++ (faster than on Python3)\n",
    "class Solution {\n",
    "public:\n",
    "    int maximum69Number (int num) {\n",
    "        std::string num_str = std::to_string(num);\n",
    "        int num_len = num_str.length();\n",
    "        std::string nines_str(num_len, '9');\n",
    "        int nines = std::stoi(nines_str);\n",
    "        int num_result = 0;\n",
    "        int delta = nines - num;\n",
    "        std::string delta_len = std::to_string(delta);\n",
    "        if (num != nines) {\n",
    "            num_result = nines - (delta - 3*(pow(10, delta_len.length() - 1)));\n",
    "            return num_result;\n",
    "        }\n",
    "        return num;\n",
    "    }\n",
    "};"
   ]
  },
  {
   "cell_type": "code",
   "execution_count": 3,
   "metadata": {},
   "outputs": [],
   "source": [
    "# Solution 3\n",
    "class Solution:\n",
    "    def maximum69Number (self, num):\n",
    "        s = 0\n",
    "        p = 10**(len(str(num)) - 1)\n",
    "        r = 0\n",
    "        num // p\n",
    "        while r != 6:\n",
    "            r = num // p\n",
    "            if r == 6:\n",
    "                s += 9*p + num % p\n",
    "                print(int(s))\n",
    "                break\n",
    "            s += r*p\n",
    "            num = num % p\n",
    "            p = p/10\n",
    "            if p == 0:\n",
    "                break\n",
    "        return int(s)"
   ]
  },
  {
   "cell_type": "code",
   "execution_count": 4,
   "metadata": {},
   "outputs": [],
   "source": [
    "# Solution 4 (easiest way)\n",
    "class Solution:\n",
    "    def maximum69Number (self, num):\n",
    "        return str(num).replace('6', '9', 1)"
   ]
  },
  {
   "cell_type": "code",
   "execution_count": null,
   "metadata": {},
   "outputs": [],
   "source": []
  }
 ],
 "metadata": {
  "kernelspec": {
   "display_name": "Python 3",
   "language": "python",
   "name": "python3"
  },
  "language_info": {
   "codemirror_mode": {
    "name": "ipython",
    "version": 3
   },
   "file_extension": ".py",
   "mimetype": "text/x-python",
   "name": "python",
   "nbconvert_exporter": "python",
   "pygments_lexer": "ipython3",
   "version": "3.7.4"
  }
 },
 "nbformat": 4,
 "nbformat_minor": 2
}
